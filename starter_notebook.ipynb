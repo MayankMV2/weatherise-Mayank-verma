{
  "cells": [
    {
      "cell_type": "markdown",
      "metadata": {
        "id": "view-in-github",
        "colab_type": "text"
      },
      "source": [
        "<a href=\"https://colab.research.google.com/github/MayankMV2/weatherise-Mayank-verma/blob/main/starter_notebook.ipynb\" target=\"_parent\"><img src=\"https://colab.research.google.com/assets/colab-badge.svg\" alt=\"Open In Colab\"/></a>"
      ]
    },
    {
      "cell_type": "markdown",
      "source": [
        "Installing Required Packages"
      ],
      "metadata": {
        "id": "dG3nVhwERe7o"
      },
      "id": "dG3nVhwERe7o"
    },
    {
      "cell_type": "code",
      "execution_count": 1,
      "id": "70c3f3f1",
      "metadata": {
        "id": "70c3f3f1",
        "colab": {
          "base_uri": "https://localhost:8080/"
        },
        "outputId": "ba6761e9-bcad-4261-eaa5-ed6fb087c896"
      },
      "outputs": [
        {
          "output_type": "stream",
          "name": "stdout",
          "text": [
            "Collecting pyinputplus\n",
            "  Downloading PyInputPlus-0.2.12.tar.gz (20 kB)\n",
            "  Installing build dependencies ... \u001b[?25l\u001b[?25hdone\n",
            "  Getting requirements to build wheel ... \u001b[?25l\u001b[?25hdone\n",
            "  Preparing metadata (pyproject.toml) ... \u001b[?25l\u001b[?25hdone\n",
            "Requirement already satisfied: matplotlib in /usr/local/lib/python3.12/dist-packages (3.10.0)\n",
            "Requirement already satisfied: requests in /usr/local/lib/python3.12/dist-packages (2.32.4)\n",
            "Collecting pysimplevalidate>=0.2.7 (from pyinputplus)\n",
            "  Downloading PySimpleValidate-0.2.12.tar.gz (22 kB)\n",
            "  Installing build dependencies ... \u001b[?25l\u001b[?25hdone\n",
            "  Getting requirements to build wheel ... \u001b[?25l\u001b[?25hdone\n",
            "  Preparing metadata (pyproject.toml) ... \u001b[?25l\u001b[?25hdone\n",
            "Collecting stdiomask>=0.0.3 (from pyinputplus)\n",
            "  Downloading stdiomask-0.0.6.tar.gz (3.6 kB)\n",
            "  Installing build dependencies ... \u001b[?25l\u001b[?25hdone\n",
            "  Getting requirements to build wheel ... \u001b[?25l\u001b[?25hdone\n",
            "  Preparing metadata (pyproject.toml) ... \u001b[?25l\u001b[?25hdone\n",
            "Requirement already satisfied: contourpy>=1.0.1 in /usr/local/lib/python3.12/dist-packages (from matplotlib) (1.3.3)\n",
            "Requirement already satisfied: cycler>=0.10 in /usr/local/lib/python3.12/dist-packages (from matplotlib) (0.12.1)\n",
            "Requirement already satisfied: fonttools>=4.22.0 in /usr/local/lib/python3.12/dist-packages (from matplotlib) (4.60.1)\n",
            "Requirement already satisfied: kiwisolver>=1.3.1 in /usr/local/lib/python3.12/dist-packages (from matplotlib) (1.4.9)\n",
            "Requirement already satisfied: numpy>=1.23 in /usr/local/lib/python3.12/dist-packages (from matplotlib) (2.0.2)\n",
            "Requirement already satisfied: packaging>=20.0 in /usr/local/lib/python3.12/dist-packages (from matplotlib) (25.0)\n",
            "Requirement already satisfied: pillow>=8 in /usr/local/lib/python3.12/dist-packages (from matplotlib) (11.3.0)\n",
            "Requirement already satisfied: pyparsing>=2.3.1 in /usr/local/lib/python3.12/dist-packages (from matplotlib) (3.2.5)\n",
            "Requirement already satisfied: python-dateutil>=2.7 in /usr/local/lib/python3.12/dist-packages (from matplotlib) (2.9.0.post0)\n",
            "Requirement already satisfied: charset_normalizer<4,>=2 in /usr/local/lib/python3.12/dist-packages (from requests) (3.4.3)\n",
            "Requirement already satisfied: idna<4,>=2.5 in /usr/local/lib/python3.12/dist-packages (from requests) (3.10)\n",
            "Requirement already satisfied: urllib3<3,>=1.21.1 in /usr/local/lib/python3.12/dist-packages (from requests) (2.5.0)\n",
            "Requirement already satisfied: certifi>=2017.4.17 in /usr/local/lib/python3.12/dist-packages (from requests) (2025.10.5)\n",
            "Requirement already satisfied: six>=1.5 in /usr/local/lib/python3.12/dist-packages (from python-dateutil>=2.7->matplotlib) (1.17.0)\n",
            "Building wheels for collected packages: pyinputplus, pysimplevalidate, stdiomask\n",
            "  Building wheel for pyinputplus (pyproject.toml) ... \u001b[?25l\u001b[?25hdone\n",
            "  Created wheel for pyinputplus: filename=pyinputplus-0.2.12-py3-none-any.whl size=11348 sha256=57bd5f4eb297c66e2d3e00d96d305e74045f635e8f4b4c3cf5f76c4a58f3ee88\n",
            "  Stored in directory: /root/.cache/pip/wheels/85/81/c1/325c8199c5c4de8a0b9af900ff9cd8bd69853e3d9419493512\n",
            "  Building wheel for pysimplevalidate (pyproject.toml) ... \u001b[?25l\u001b[?25hdone\n",
            "  Created wheel for pysimplevalidate: filename=pysimplevalidate-0.2.12-py3-none-any.whl size=16225 sha256=5af8a74cf3aacb092312c0f097ca8dc3019a6e0dd446e60b0ba3f65ea1867849\n",
            "  Stored in directory: /root/.cache/pip/wheels/09/de/18/4dd2be0dbdf31870c6f0abde43b0de197b1c095655ad7da5c2\n",
            "  Building wheel for stdiomask (pyproject.toml) ... \u001b[?25l\u001b[?25hdone\n",
            "  Created wheel for stdiomask: filename=stdiomask-0.0.6-py3-none-any.whl size=3358 sha256=f5135a4933fb4fd1b416b35940274673731624dfda3d239478273c335e3e2ca2\n",
            "  Stored in directory: /root/.cache/pip/wheels/05/c7/e6/c66ff8c008b4d73f2db458feb4922075e7755853fe496e5135\n",
            "Successfully built pyinputplus pysimplevalidate stdiomask\n",
            "Installing collected packages: stdiomask, pysimplevalidate, pyinputplus\n",
            "Successfully installed pyinputplus-0.2.12 pysimplevalidate-0.2.12 stdiomask-0.0.6\n"
          ]
        }
      ],
      "source": [
        "!pip install pyinputplus matplotlib requests\n"
      ]
    },
    {
      "cell_type": "markdown",
      "id": "59ae7543",
      "metadata": {
        "id": "59ae7543"
      },
      "source": [
        "\n",
        "Importing Required Modules"
      ]
    },
    {
      "cell_type": "code",
      "execution_count": 2,
      "id": "f1dd051e",
      "metadata": {
        "id": "f1dd051e"
      },
      "outputs": [],
      "source": [
        "import os\n",
        "import requests\n",
        "import matplotlib.pyplot as plt\n",
        "import pyinputplus as pyip"
      ]
    },
    {
      "cell_type": "markdown",
      "id": "f736ade3",
      "metadata": {
        "id": "f736ade3"
      },
      "source": [
        "Weather Data Function using wttr"
      ]
    },
    {
      "cell_type": "code",
      "execution_count": 3,
      "id": "7a2c7cd0",
      "metadata": {
        "id": "7a2c7cd0"
      },
      "outputs": [],
      "source": [
        "def get_weather_data(city_name, forecast_period=3):\n",
        "    \"\"\"\n",
        "    Retrieves weather forecast for a chosen city and period.\n",
        "\n",
        "    Builds an API URL using the given city name (e.g., 'Sydney') and the\n",
        "    number of forecast days which in case of wttr is limited to 3 days. Sends a GET request to the wttr.in API and\n",
        "    returns JSON data.\n",
        "    \"\"\"\n",
        "    url = f\"https://wttr.in/{city_name}?format=j1\"\n",
        "    try:\n",
        "        reply = requests.get(url)\n",
        "        reply.raise_for_status()\n",
        "        info = reply.json()\n",
        "        info['weather'] = info['weather'][:forecast_period]\n",
        "        return info\n",
        "    except Exception as err:\n",
        "        print(f\"Unable to fetch weather data: {err}\")\n",
        "        return None"
      ]
    },
    {
      "cell_type": "markdown",
      "id": "8a744fdc",
      "metadata": {
        "id": "8a744fdc"
      },
      "source": [
        "## 📊 Visualisation Functions"
      ]
    },
    {
      "cell_type": "markdown",
      "source": [
        "Visualising Temperature Using a scatter plot"
      ],
      "metadata": {
        "id": "WFUB6gujUA1E"
      },
      "id": "WFUB6gujUA1E"
    },
    {
      "cell_type": "code",
      "execution_count": 28,
      "id": "9dc3bf85",
      "metadata": {
        "id": "9dc3bf85",
        "colab": {
          "base_uri": "https://localhost:8080/",
          "height": 472
        },
        "outputId": "614d01bb-dce5-4b71-f3bf-0d01c1a61759"
      },
      "outputs": [
        {
          "output_type": "display_data",
          "data": {
            "text/plain": [
              "<Figure size 640x480 with 1 Axes>"
            ],
            "image/png": "[encoded data removed]"
          },
          "metadata": {}
        }
      ],
      "source": [
        "def create_temperature_visualisation(weather_data, output_type='display'):\n",
        "    \"\"\"\n",
        "    Visualize daily temperature using a line + scatter plot.\n",
        "    Uses interactive mode to allow input fields to appear after plotting.\n",
        "    \"\"\"\n",
        "    days_list, max_temps, min_temps = [], [], []\n",
        "\n",
        "    for day in weather_data['weather']:\n",
        "        days_list.append(day['date'])\n",
        "        max_temps.append(float(day['maxtempC']))\n",
        "        min_temps.append(float(day['mintempC']))\n",
        "\n",
        "    # Turn on interactive mode\n",
        "    plt.ion()\n",
        "    fig, ax = plt.subplots()\n",
        "    ax.plot(days_list, max_temps, color='orange', marker='s', linestyle='-', label='Max Temp (°C)')\n",
        "    ax.plot(days_list, min_temps, color='teal', marker='o', linestyle='--', label='Min Temp (°C)')\n",
        "    ax.set_title(\"Temperature Trend Overview\")\n",
        "    ax.set_xlabel(\"Date\")\n",
        "    ax.set_ylabel(\"Temperature (°C)\")\n",
        "    ax.legend()\n",
        "    plt.grid(True)\n",
        "\n",
        "    plt.show()      # display figure without blocking\n",
        "    plt.pause(0.1)  # small pause to render\n",
        "    plt.close(fig)  # close figure so input can appear\n",
        "\n",
        "    # Turn off interactive mode if needed\n",
        "    plt.ioff()\n",
        "data = get_weather_data(\"Perth\",3)\n",
        "create_temperature_visualisation(data)"
      ]
    },
    {
      "cell_type": "markdown",
      "source": [
        "Using a heatmap like bar Chart for visualising Precipitation\n",
        "\n"
      ],
      "metadata": {
        "id": "Ehht5K9aUIrt"
      },
      "id": "Ehht5K9aUIrt"
    },
    {
      "cell_type": "code",
      "source": [
        "def create_precipitation_visualisation(weather_data, output_type='display'):\n",
        "    days = [day['date'] for day in weather_data['weather']]\n",
        "    values = [sum(float(h['precipMM']) for h in day['hourly']) for day in weather_data['weather']]\n",
        "    max_val = max(values) if values else 1\n",
        "    colors = [(0, 0.5, 1, val/max_val) for val in values]  # RGBA\n",
        "\n",
        "    fig, ax = plt.subplots()\n",
        "    ax.bar(days, values, color=colors)\n",
        "    ax.set_title(\"Daily Precipitation Heatmap\")\n",
        "    ax.set_xlabel(\"Date\")\n",
        "    ax.set_ylabel(\"Rainfall (mm)\")\n",
        "    plt.grid(True)\n",
        "\n",
        "    if output_type == 'figure':\n",
        "        return fig\n",
        "    else:\n",
        "        plt.show()      # display figure without blocking\n",
        "        plt.pause(0.1)  # small pause to render\n",
        "        plt.close(fig)  # close figure so input can appear\n",
        "\n",
        "         # Turn off interactive mode if needed\n",
        "        plt.ioff()\n",
        "\n"
      ],
      "metadata": {
        "id": "HpOlQylYG5Ho"
      },
      "id": "HpOlQylYG5Ho",
      "execution_count": 31,
      "outputs": []
    },
    {
      "cell_type": "markdown",
      "source": [
        "Wind Speed Visualisation"
      ],
      "metadata": {
        "id": "XCrpCPtyWcZu"
      },
      "id": "XCrpCPtyWcZu"
    },
    {
      "cell_type": "code",
      "source": [
        "def create_wind_visualisation(weather_data, output_type='display'):\n",
        "    \"\"\"\n",
        "    Visualize daily wind speeds using bars and scatter points.\n",
        "    \"\"\"\n",
        "    days = []\n",
        "    max_winds = []\n",
        "    first_hour_winds = []\n",
        "\n",
        "    for day in weather_data['weather']:\n",
        "        days.append(day['date'])\n",
        "        max_winds.append(max(float(hour['windspeedKmph']) for hour in day['hourly']))\n",
        "        first_hour_winds.append(float(day['hourly'][0]['windspeedKmph']))\n",
        "\n",
        "    fig, ax = plt.subplots()\n",
        "    ax.bar(days, max_winds, color='lightgreen', alpha=0.6, label='Max Wind Speed (km/h)')\n",
        "    ax.scatter(days, first_hour_winds, color='darkgreen', label='First Hour Wind Speed', s=80, marker='o')\n",
        "\n",
        "    ax.set_title(\"Daily Wind Speed Overview\")\n",
        "    ax.set_xlabel(\"Date\")\n",
        "    ax.set_ylabel(\"Wind Speed (km/h)\")\n",
        "    ax.legend()\n",
        "    plt.grid(True)\n",
        "\n",
        "    if output_type == 'figure':\n",
        "        return fig\n",
        "    else:\n",
        "        plt.show()      # display figure without blocking\n",
        "        plt.pause(0.1)  # small pause to render\n",
        "        plt.close(fig)  # close figure so input can appear\n",
        "\n",
        "        # Turn off interactive mode if needed\n",
        "        plt.ioff()\n"
      ],
      "metadata": {
        "id": "0pwkV-rWWgJE"
      },
      "id": "0pwkV-rWWgJE",
      "execution_count": 32,
      "outputs": []
    },
    {
      "cell_type": "markdown",
      "id": "9f95d160",
      "metadata": {
        "id": "9f95d160"
      },
      "source": [
        "## 🤖 Natural Language Processing"
      ]
    },
    {
      "cell_type": "code",
      "execution_count": 10,
      "id": "bcc5833e",
      "metadata": {
        "id": "bcc5833e"
      },
      "outputs": [],
      "source": [
        "def parse_weather_question(query):\n",
        "    \"\"\"\n",
        "    Extract keywords from a user's weather-related question.\n",
        "    \"\"\"\n",
        "    query = query.lower()\n",
        "    features = ['temperature', 'rain', 'precipitation', 'humidity', 'wind']\n",
        "    time_refs = ['today', 'tomorrow', 'day after tomorrow']\n",
        "    city, feature, time_ref = None, None, 'today'\n",
        "\n",
        "    for f in features:\n",
        "        if f in query:\n",
        "            feature = f\n",
        "            break\n",
        "    for t in time_refs:\n",
        "        if t in query:\n",
        "            time_ref = t\n",
        "            break\n",
        "\n",
        "    words = query.split()\n",
        "    if 'in' in words:\n",
        "        idx = words.index('in')\n",
        "        if idx + 1 < len(words):\n",
        "            city = words[idx + 1]\n",
        "    else:\n",
        "        city = 'Sydney'\n",
        "\n",
        "    return {'location': city, 'attribute': feature, 'time_period': time_ref}\n"
      ]
    },
    {
      "cell_type": "markdown",
      "id": "d643a53c",
      "metadata": {
        "id": "d643a53c"
      },
      "source": [
        "## 🧩 Main Application Logic"
      ]
    },
    {
      "cell_type": "code",
      "execution_count": 25,
      "id": "a9e2e805",
      "metadata": {
        "id": "a9e2e805"
      },
      "outputs": [],
      "source": [
        "def generate_weather_response(parsed_question, weather_data):\n",
        "    \"\"\"\n",
        "    Formulates a human-readable response to a weather question.\n",
        "    \"\"\"\n",
        "    city = parsed_question['location']\n",
        "    attribute = parsed_question['attribute']\n",
        "    time_label = parsed_question['time_period']\n",
        "    idx = 0\n",
        "    if time_label == 'tomorrow':\n",
        "        idx = 1\n",
        "    elif time_label == 'day after tomorrow':\n",
        "        idx = 2\n",
        "\n",
        "    try:\n",
        "        day_info = weather_data['weather'][idx]\n",
        "        if attribute in ['temperature', None]:\n",
        "            t_high = day_info['maxtempC']\n",
        "            t_low = day_info['mintempC']\n",
        "            return f\"In {city.title()} on {day_info['date']}, temperatures will range between {t_low}°C and {t_high}°C.\"\n",
        "        elif attribute in ['rain', 'precipitation']:\n",
        "            total = sum(float(hour['precipMM']) for hour in day_info['hourly'])\n",
        "            return f\"In {city.title()} on {day_info['date']}, the total rainfall will be around {total:.1f} mm.\"\n",
        "        elif attribute == 'humidity':\n",
        "            hum = day_info['hourly'][0]['humidity']\n",
        "            return f\"In {city.title()} on {day_info['date']}, humidity levels will be close to {hum}%.\"\n",
        "        elif attribute == 'wind':\n",
        "            wind_speed = day_info['hourly'][0]['windspeedKmph']\n",
        "            return f\"In {city.title()} on {day_info['date']}, wind speeds are expected to reach {wind_speed} km/h.\"\n",
        "        else:\n",
        "            return \"Sorry, I couldn’t interpret that weather detail.\"\n",
        "    except Exception as e:\n",
        "        return f\"Sorry, I couldn’t access the weather data: {e}\"\n"
      ]
    },
    {
      "cell_type": "markdown",
      "id": "0d85225e",
      "metadata": {
        "id": "0d85225e"
      },
      "source": [
        "## 🧭 User Interface"
      ]
    },
    {
      "cell_type": "code",
      "execution_count": 26,
      "id": "fa6cb0f6",
      "metadata": {
        "id": "fa6cb0f6"
      },
      "outputs": [],
      "source": [
        "def main_menu():\n",
        "    \"\"\"\n",
        "    Main interactive menu for the Weather App.\n",
        "    \"\"\"\n",
        "    print(\"=== Weather Companion ===\")\n",
        "    while True:\n",
        "        print(\"\\nChoose an option below:\")\n",
        "        print(\"1 - Get Current Weather Summary\")\n",
        "        print(\"2 - Ask a Weather-related Question\")\n",
        "        print(\"3 - View Temperature Chart (Scatter)\")\n",
        "        print(\"4 - View Rainfall Graph (Horizontal Bar)\")\n",
        "        print(\"5 - Wind Speed Visuals for your city\")\n",
        "        print(\"6 - Exit\")\n",
        "\n",
        "        choice = pyip.inputChoice(['1', '2', '3', '4', '5','6'], prompt=\"Enter your option (1-6): \")\n",
        "\n",
        "        if choice == '6':\n",
        "            print(\"Exiting the Weather Companion. Stay updated!\")\n",
        "            break\n",
        "\n",
        "        city_input = pyip.inputStr(prompt=\"Enter your city name: \")\n",
        "        weather = get_weather_data(city_input, forecast_period=3)\n",
        "\n",
        "        if not weather:\n",
        "            print(\"Could not access the data. Try again later.\")\n",
        "            continue\n",
        "\n",
        "        if choice == '1':\n",
        "            print(generate_weather_response({'location': city_input, 'attribute': None, 'time_period': 'today'}, weather))\n",
        "        elif choice == '2':\n",
        "            user_query = pyip.inputStr(prompt=\"Type your weather question: \")\n",
        "            parsed_query = parse_weather_question(user_query)\n",
        "            parsed_query['location'] = city_input\n",
        "            reply = generate_weather_response(parsed_query, weather)\n",
        "            print(reply)\n",
        "        elif choice == '3':\n",
        "            create_temperature_visualisation(weather)\n",
        "        elif choice == '4':\n",
        "            create_precipitation_visualisation(weather)\n",
        "        elif choice == '5':\n",
        "            create_wind_visualisation(weather)"
      ]
    },
    {
      "cell_type": "code",
      "source": [
        "main_menu()"
      ],
      "metadata": {
        "colab": {
          "base_uri": "https://localhost:8080/",
          "height": 1000
        },
        "id": "zhYA37VBV1F8",
        "outputId": "a8d7eb42-5e7f-4b1a-caf1-52601650d890"
      },
      "id": "zhYA37VBV1F8",
      "execution_count": 33,
      "outputs": [
        {
          "name": "stdout",
          "output_type": "stream",
          "text": [
            "=== Weather Companion ===\n",
            "\n",
            "Choose an option below:\n",
            "1 - Get Current Weather Summary\n",
            "2 - Ask a Weather-related Question\n",
            "3 - View Temperature Chart (Scatter)\n",
            "4 - View Rainfall Graph (Horizontal Bar)\n",
            "5 - Wind Speed Visuals for your city\n",
            "6 - Exit\n",
            "Enter your option (1-6): 4\n",
            "Enter your city name: Perth\n"
          ]
        },
        {
          "output_type": "display_data",
          "data": {
            "text/plain": [
              "<Figure size 640x480 with 1 Axes>"
            ],
            "image/png": "[encoded data removed]"
          },
          "metadata": {}
        },
        {
          "name": "stdout",
          "output_type": "stream",
          "text": [
            "\n",
            "Choose an option below:\n",
            "1 - Get Current Weather Summary\n",
            "2 - Ask a Weather-related Question\n",
            "3 - View Temperature Chart (Scatter)\n",
            "4 - View Rainfall Graph (Horizontal Bar)\n",
            "5 - Wind Speed Visuals for your city\n",
            "6 - Exit\n",
            "Enter your option (1-6): 5\n",
            "Enter your city name: Sydney\n"
          ]
        },
        {
          "output_type": "display_data",
          "data": {
            "text/plain": [
              "<Figure size 640x480 with 1 Axes>"
            ],
            "image/png": "[encoded data removed]"
          },
          "metadata": {}
        },
        {
          "output_type": "stream",
          "name": "stdout",
          "text": [
            "\n",
            "Choose an option below:\n",
            "1 - Get Current Weather Summary\n",
            "2 - Ask a Weather-related Question\n",
            "3 - View Temperature Chart (Scatter)\n",
            "4 - View Rainfall Graph (Horizontal Bar)\n",
            "5 - Wind Speed Visuals for your city\n",
            "6 - Exit\n",
            "Enter your option (1-6): 6\n",
            "Exiting the Weather Companion. Stay updated!\n"
          ]
        }
      ]
    },
    {
      "cell_type": "markdown",
      "id": "fde44479",
      "metadata": {
        "id": "fde44479"
      },
      "source": [
        "🧪 Testing and Examples"
      ]
    },
    {
      "cell_type": "code",
      "execution_count": null,
      "id": "4e573901",
      "metadata": {
        "id": "4e573901"
      },
      "outputs": [],
      "source": [
        "# Include sample input/output for each function"
      ]
    },
    {
      "cell_type": "markdown",
      "id": "d2885880",
      "metadata": {
        "id": "d2885880"
      },
      "source": [
        "## 🗂️ AI Prompting Log (Optional)\n",
        "Add markdown cells here summarising prompts used or link to AI conversations in the `ai-conversations/` folder."
      ]
    }
  ],
  "metadata": {
    "language_info": {
      "name": "python"
    },
    "colab": {
      "provenance": [],
      "include_colab_link": true
    },
    "kernelspec": {
      "name": "python3",
      "display_name": "Python 3"
    }
  },
  "nbformat": 4,
  "nbformat_minor": 5
}